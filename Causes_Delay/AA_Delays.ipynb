{
 "cells": [
  {
   "cell_type": "code",
   "execution_count": 2,
   "id": "4d2f543d",
   "metadata": {},
   "outputs": [],
   "source": [
    "# Random Forest Feature Selection\n",
    "# Initial imports\n",
    "import pandas as pd\n",
    "from path import Path\n",
    "from sklearn import tree\n",
    "from sklearn.preprocessing import StandardScaler\n",
    "from sklearn.model_selection import train_test_split\n",
    "from sklearn.metrics import confusion_matrix, accuracy_score, classification_report\n"
   ]
  },
  {
   "cell_type": "code",
   "execution_count": 3,
   "id": "89b14976",
   "metadata": {},
   "outputs": [
    {
     "data": {
      "text/html": [
       "<div>\n",
       "<style scoped>\n",
       "    .dataframe tbody tr th:only-of-type {\n",
       "        vertical-align: middle;\n",
       "    }\n",
       "\n",
       "    .dataframe tbody tr th {\n",
       "        vertical-align: top;\n",
       "    }\n",
       "\n",
       "    .dataframe thead th {\n",
       "        text-align: right;\n",
       "    }\n",
       "</style>\n",
       "<table border=\"1\" class=\"dataframe\">\n",
       "  <thead>\n",
       "    <tr style=\"text-align: right;\">\n",
       "      <th></th>\n",
       "      <th>year</th>\n",
       "      <th>month</th>\n",
       "      <th>carrier</th>\n",
       "      <th>carrier_name</th>\n",
       "      <th>airport</th>\n",
       "      <th>airport_name</th>\n",
       "      <th>arr_flights</th>\n",
       "      <th>arr_del15</th>\n",
       "      <th>carrier_ct</th>\n",
       "      <th>weather_ct</th>\n",
       "      <th>...</th>\n",
       "      <th>security_ct</th>\n",
       "      <th>late_aircraft_ct</th>\n",
       "      <th>arr_cancelled</th>\n",
       "      <th>arr_diverted</th>\n",
       "      <th>arr_delay</th>\n",
       "      <th>carrier_delay</th>\n",
       "      <th>weather_delay</th>\n",
       "      <th>nas_delay</th>\n",
       "      <th>security_delay</th>\n",
       "      <th>late_aircraft_delay</th>\n",
       "    </tr>\n",
       "  </thead>\n",
       "  <tbody>\n",
       "    <tr>\n",
       "      <th>0</th>\n",
       "      <td>2022</td>\n",
       "      <td>10</td>\n",
       "      <td>AA</td>\n",
       "      <td>American Airlines Inc.</td>\n",
       "      <td>DFW</td>\n",
       "      <td>Dallas/Fort Worth, TX: Dallas/Fort Worth Inter...</td>\n",
       "      <td>12404.0</td>\n",
       "      <td>2132.0</td>\n",
       "      <td>605.34</td>\n",
       "      <td>107.00</td>\n",
       "      <td>...</td>\n",
       "      <td>10.19</td>\n",
       "      <td>864.08</td>\n",
       "      <td>152.0</td>\n",
       "      <td>63.0</td>\n",
       "      <td>204255.0</td>\n",
       "      <td>73289.0</td>\n",
       "      <td>9817.0</td>\n",
       "      <td>31024.0</td>\n",
       "      <td>852.0</td>\n",
       "      <td>89273.0</td>\n",
       "    </tr>\n",
       "    <tr>\n",
       "      <th>1</th>\n",
       "      <td>2022</td>\n",
       "      <td>9</td>\n",
       "      <td>AA</td>\n",
       "      <td>American Airlines Inc.</td>\n",
       "      <td>DFW</td>\n",
       "      <td>Dallas/Fort Worth, TX: Dallas/Fort Worth Inter...</td>\n",
       "      <td>12108.0</td>\n",
       "      <td>2107.0</td>\n",
       "      <td>660.63</td>\n",
       "      <td>124.59</td>\n",
       "      <td>...</td>\n",
       "      <td>5.28</td>\n",
       "      <td>893.56</td>\n",
       "      <td>175.0</td>\n",
       "      <td>45.0</td>\n",
       "      <td>200822.0</td>\n",
       "      <td>79696.0</td>\n",
       "      <td>10567.0</td>\n",
       "      <td>20617.0</td>\n",
       "      <td>370.0</td>\n",
       "      <td>89572.0</td>\n",
       "    </tr>\n",
       "    <tr>\n",
       "      <th>2</th>\n",
       "      <td>2022</td>\n",
       "      <td>8</td>\n",
       "      <td>AA</td>\n",
       "      <td>American Airlines Inc.</td>\n",
       "      <td>DFW</td>\n",
       "      <td>Dallas/Fort Worth, TX: Dallas/Fort Worth Inter...</td>\n",
       "      <td>13051.0</td>\n",
       "      <td>2938.0</td>\n",
       "      <td>829.64</td>\n",
       "      <td>217.15</td>\n",
       "      <td>...</td>\n",
       "      <td>12.60</td>\n",
       "      <td>1199.03</td>\n",
       "      <td>726.0</td>\n",
       "      <td>153.0</td>\n",
       "      <td>259731.0</td>\n",
       "      <td>101046.0</td>\n",
       "      <td>21063.0</td>\n",
       "      <td>33145.0</td>\n",
       "      <td>636.0</td>\n",
       "      <td>103841.0</td>\n",
       "    </tr>\n",
       "    <tr>\n",
       "      <th>3</th>\n",
       "      <td>2022</td>\n",
       "      <td>7</td>\n",
       "      <td>AA</td>\n",
       "      <td>American Airlines Inc.</td>\n",
       "      <td>DFW</td>\n",
       "      <td>Dallas/Fort Worth, TX: Dallas/Fort Worth Inter...</td>\n",
       "      <td>12680.0</td>\n",
       "      <td>2875.0</td>\n",
       "      <td>862.42</td>\n",
       "      <td>141.91</td>\n",
       "      <td>...</td>\n",
       "      <td>9.15</td>\n",
       "      <td>1394.26</td>\n",
       "      <td>298.0</td>\n",
       "      <td>30.0</td>\n",
       "      <td>259180.0</td>\n",
       "      <td>97890.0</td>\n",
       "      <td>12647.0</td>\n",
       "      <td>20655.0</td>\n",
       "      <td>393.0</td>\n",
       "      <td>127595.0</td>\n",
       "    </tr>\n",
       "    <tr>\n",
       "      <th>4</th>\n",
       "      <td>2022</td>\n",
       "      <td>6</td>\n",
       "      <td>AA</td>\n",
       "      <td>American Airlines Inc.</td>\n",
       "      <td>DFW</td>\n",
       "      <td>Dallas/Fort Worth, TX: Dallas/Fort Worth Inter...</td>\n",
       "      <td>12411.0</td>\n",
       "      <td>3137.0</td>\n",
       "      <td>994.64</td>\n",
       "      <td>159.30</td>\n",
       "      <td>...</td>\n",
       "      <td>6.97</td>\n",
       "      <td>1416.80</td>\n",
       "      <td>601.0</td>\n",
       "      <td>65.0</td>\n",
       "      <td>273956.0</td>\n",
       "      <td>109056.0</td>\n",
       "      <td>17343.0</td>\n",
       "      <td>26831.0</td>\n",
       "      <td>246.0</td>\n",
       "      <td>120480.0</td>\n",
       "    </tr>\n",
       "  </tbody>\n",
       "</table>\n",
       "<p>5 rows × 21 columns</p>\n",
       "</div>"
      ],
      "text/plain": [
       "   year  month carrier            carrier_name airport  \\\n",
       "0  2022     10      AA  American Airlines Inc.     DFW   \n",
       "1  2022      9      AA  American Airlines Inc.     DFW   \n",
       "2  2022      8      AA  American Airlines Inc.     DFW   \n",
       "3  2022      7      AA  American Airlines Inc.     DFW   \n",
       "4  2022      6      AA  American Airlines Inc.     DFW   \n",
       "\n",
       "                                        airport_name  arr_flights  arr_del15  \\\n",
       "0  Dallas/Fort Worth, TX: Dallas/Fort Worth Inter...      12404.0     2132.0   \n",
       "1  Dallas/Fort Worth, TX: Dallas/Fort Worth Inter...      12108.0     2107.0   \n",
       "2  Dallas/Fort Worth, TX: Dallas/Fort Worth Inter...      13051.0     2938.0   \n",
       "3  Dallas/Fort Worth, TX: Dallas/Fort Worth Inter...      12680.0     2875.0   \n",
       "4  Dallas/Fort Worth, TX: Dallas/Fort Worth Inter...      12411.0     3137.0   \n",
       "\n",
       "   carrier_ct  weather_ct  ...  security_ct  late_aircraft_ct  arr_cancelled  \\\n",
       "0      605.34      107.00  ...        10.19            864.08          152.0   \n",
       "1      660.63      124.59  ...         5.28            893.56          175.0   \n",
       "2      829.64      217.15  ...        12.60           1199.03          726.0   \n",
       "3      862.42      141.91  ...         9.15           1394.26          298.0   \n",
       "4      994.64      159.30  ...         6.97           1416.80          601.0   \n",
       "\n",
       "   arr_diverted  arr_delay  carrier_delay  weather_delay  nas_delay  \\\n",
       "0          63.0   204255.0        73289.0         9817.0    31024.0   \n",
       "1          45.0   200822.0        79696.0        10567.0    20617.0   \n",
       "2         153.0   259731.0       101046.0        21063.0    33145.0   \n",
       "3          30.0   259180.0        97890.0        12647.0    20655.0   \n",
       "4          65.0   273956.0       109056.0        17343.0    26831.0   \n",
       "\n",
       "   security_delay  late_aircraft_delay  \n",
       "0           852.0              89273.0  \n",
       "1           370.0              89572.0  \n",
       "2           636.0             103841.0  \n",
       "3           393.0             127595.0  \n",
       "4           246.0             120480.0  \n",
       "\n",
       "[5 rows x 21 columns]"
      ]
     },
     "execution_count": 3,
     "metadata": {},
     "output_type": "execute_result"
    }
   ],
   "source": [
    "# Read in CSV file.\n",
    "# df = pd.read_csv(\"loans_data_encoded.csv\")\n",
    "# df = pd.read_csv(\"security_data.csv\")\n",
    "df = pd.read_csv(\"AA_Airline_Delay_Cause.csv\")\n",
    "# df = pd.read_csv(\"All_Airline_Delay_Cause_2022.csv\")\n",
    "# df = pd.read_csv(\"Airline_Delay_Cause_2020.csv\")\n",
    "# df = pd.read_csv(\"Delay_Causes_2015-2022.csv\")\n",
    "df.head()"
   ]
  },
  {
   "cell_type": "code",
   "execution_count": 5,
   "id": "b01748e0",
   "metadata": {},
   "outputs": [
    {
     "data": {
      "text/html": [
       "<div>\n",
       "<style scoped>\n",
       "    .dataframe tbody tr th:only-of-type {\n",
       "        vertical-align: middle;\n",
       "    }\n",
       "\n",
       "    .dataframe tbody tr th {\n",
       "        vertical-align: top;\n",
       "    }\n",
       "\n",
       "    .dataframe thead th {\n",
       "        text-align: right;\n",
       "    }\n",
       "</style>\n",
       "<table border=\"1\" class=\"dataframe\">\n",
       "  <thead>\n",
       "    <tr style=\"text-align: right;\">\n",
       "      <th></th>\n",
       "      <th>carrier_delay</th>\n",
       "      <th>weather_delay</th>\n",
       "      <th>nas_delay</th>\n",
       "      <th>security_delay</th>\n",
       "      <th>late_aircraft_delay</th>\n",
       "    </tr>\n",
       "  </thead>\n",
       "  <tbody>\n",
       "    <tr>\n",
       "      <th>0</th>\n",
       "      <td>73289.0</td>\n",
       "      <td>9817.0</td>\n",
       "      <td>31024.0</td>\n",
       "      <td>852.0</td>\n",
       "      <td>89273.0</td>\n",
       "    </tr>\n",
       "    <tr>\n",
       "      <th>1</th>\n",
       "      <td>79696.0</td>\n",
       "      <td>10567.0</td>\n",
       "      <td>20617.0</td>\n",
       "      <td>370.0</td>\n",
       "      <td>89572.0</td>\n",
       "    </tr>\n",
       "    <tr>\n",
       "      <th>2</th>\n",
       "      <td>101046.0</td>\n",
       "      <td>21063.0</td>\n",
       "      <td>33145.0</td>\n",
       "      <td>636.0</td>\n",
       "      <td>103841.0</td>\n",
       "    </tr>\n",
       "    <tr>\n",
       "      <th>3</th>\n",
       "      <td>97890.0</td>\n",
       "      <td>12647.0</td>\n",
       "      <td>20655.0</td>\n",
       "      <td>393.0</td>\n",
       "      <td>127595.0</td>\n",
       "    </tr>\n",
       "    <tr>\n",
       "      <th>4</th>\n",
       "      <td>109056.0</td>\n",
       "      <td>17343.0</td>\n",
       "      <td>26831.0</td>\n",
       "      <td>246.0</td>\n",
       "      <td>120480.0</td>\n",
       "    </tr>\n",
       "  </tbody>\n",
       "</table>\n",
       "</div>"
      ],
      "text/plain": [
       "   carrier_delay  weather_delay  nas_delay  security_delay  \\\n",
       "0        73289.0         9817.0    31024.0           852.0   \n",
       "1        79696.0        10567.0    20617.0           370.0   \n",
       "2       101046.0        21063.0    33145.0           636.0   \n",
       "3        97890.0        12647.0    20655.0           393.0   \n",
       "4       109056.0        17343.0    26831.0           246.0   \n",
       "\n",
       "   late_aircraft_delay  \n",
       "0              89273.0  \n",
       "1              89572.0  \n",
       "2             103841.0  \n",
       "3             127595.0  \n",
       "4             120480.0  "
      ]
     },
     "execution_count": 5,
     "metadata": {},
     "output_type": "execute_result"
    }
   ],
   "source": [
    "# df2 = df[['arr_flights', 'carrier_delay']].copy()\n",
    "df2 = df[['carrier_delay', 'weather_delay', 'nas_delay', 'security_delay', 'late_aircraft_delay']].copy()\n",
    "df2 = df2.dropna()\n",
    "df2.head()"
   ]
  },
  {
   "cell_type": "code",
   "execution_count": 6,
   "id": "ac9fd2a3",
   "metadata": {},
   "outputs": [
    {
     "name": "stdout",
     "output_type": "stream",
     "text": [
      "(10, 21)\n"
     ]
    }
   ],
   "source": [
    "print(df.shape)"
   ]
  },
  {
   "cell_type": "code",
   "execution_count": 7,
   "id": "3c8942a0",
   "metadata": {},
   "outputs": [
    {
     "data": {
      "text/html": [
       "<div>\n",
       "<style scoped>\n",
       "    .dataframe tbody tr th:only-of-type {\n",
       "        vertical-align: middle;\n",
       "    }\n",
       "\n",
       "    .dataframe tbody tr th {\n",
       "        vertical-align: top;\n",
       "    }\n",
       "\n",
       "    .dataframe thead th {\n",
       "        text-align: right;\n",
       "    }\n",
       "</style>\n",
       "<table border=\"1\" class=\"dataframe\">\n",
       "  <thead>\n",
       "    <tr style=\"text-align: right;\">\n",
       "      <th></th>\n",
       "      <th>carrier_delay</th>\n",
       "      <th>weather_delay</th>\n",
       "      <th>nas_delay</th>\n",
       "      <th>security_delay</th>\n",
       "      <th>late_aircraft_delay</th>\n",
       "    </tr>\n",
       "  </thead>\n",
       "  <tbody>\n",
       "    <tr>\n",
       "      <th>0</th>\n",
       "      <td>73289.0</td>\n",
       "      <td>9817.0</td>\n",
       "      <td>31024.0</td>\n",
       "      <td>852.0</td>\n",
       "      <td>89273.0</td>\n",
       "    </tr>\n",
       "    <tr>\n",
       "      <th>1</th>\n",
       "      <td>79696.0</td>\n",
       "      <td>10567.0</td>\n",
       "      <td>20617.0</td>\n",
       "      <td>370.0</td>\n",
       "      <td>89572.0</td>\n",
       "    </tr>\n",
       "    <tr>\n",
       "      <th>2</th>\n",
       "      <td>101046.0</td>\n",
       "      <td>21063.0</td>\n",
       "      <td>33145.0</td>\n",
       "      <td>636.0</td>\n",
       "      <td>103841.0</td>\n",
       "    </tr>\n",
       "    <tr>\n",
       "      <th>3</th>\n",
       "      <td>97890.0</td>\n",
       "      <td>12647.0</td>\n",
       "      <td>20655.0</td>\n",
       "      <td>393.0</td>\n",
       "      <td>127595.0</td>\n",
       "    </tr>\n",
       "    <tr>\n",
       "      <th>4</th>\n",
       "      <td>109056.0</td>\n",
       "      <td>17343.0</td>\n",
       "      <td>26831.0</td>\n",
       "      <td>246.0</td>\n",
       "      <td>120480.0</td>\n",
       "    </tr>\n",
       "  </tbody>\n",
       "</table>\n",
       "</div>"
      ],
      "text/plain": [
       "   carrier_delay  weather_delay  nas_delay  security_delay  \\\n",
       "0        73289.0         9817.0    31024.0           852.0   \n",
       "1        79696.0        10567.0    20617.0           370.0   \n",
       "2       101046.0        21063.0    33145.0           636.0   \n",
       "3        97890.0        12647.0    20655.0           393.0   \n",
       "4       109056.0        17343.0    26831.0           246.0   \n",
       "\n",
       "   late_aircraft_delay  \n",
       "0              89273.0  \n",
       "1              89572.0  \n",
       "2             103841.0  \n",
       "3             127595.0  \n",
       "4             120480.0  "
      ]
     },
     "execution_count": 7,
     "metadata": {},
     "output_type": "execute_result"
    }
   ],
   "source": [
    "# X is the input data (independent variable) and y is the output data (target variable).\n",
    "X = df2.copy()\n",
    "X.head()"
   ]
  },
  {
   "cell_type": "code",
   "execution_count": 8,
   "id": "42554eeb",
   "metadata": {},
   "outputs": [
    {
     "data": {
      "text/plain": [
       "array([[ 89273.],\n",
       "       [ 89572.],\n",
       "       [103841.],\n",
       "       [127595.],\n",
       "       [120480.]])"
      ]
     },
     "execution_count": 8,
     "metadata": {},
     "output_type": "execute_result"
    }
   ],
   "source": [
    "# y = X.pop('late_aircraft_delay')\n",
    "# Define the target vector\n",
    "y= df2[\"late_aircraft_delay\"].values.reshape(-1, 1)\n",
    "y[:5]"
   ]
  },
  {
   "cell_type": "code",
   "execution_count": 9,
   "id": "ba8c7d0a",
   "metadata": {},
   "outputs": [],
   "source": [
    "# print(X.shape)\n",
    "# print(X.shape)"
   ]
  },
  {
   "cell_type": "code",
   "execution_count": 10,
   "id": "2f2a8009",
   "metadata": {},
   "outputs": [],
   "source": [
    "# Split into Train and Test sets\n",
    "X_train, X_test, y_train, y_test = train_test_split(X, y, random_state=78)"
   ]
  },
  {
   "cell_type": "code",
   "execution_count": 11,
   "id": "292505b5",
   "metadata": {},
   "outputs": [
    {
     "name": "stdout",
     "output_type": "stream",
     "text": [
      "(7, 5)\n",
      "(3, 5)\n",
      "(7, 1)\n",
      "(3, 1)\n"
     ]
    }
   ],
   "source": [
    "print(X_train.shape)\n",
    "print(X_test.shape)\n",
    "print(y_train.shape)\n",
    "print(y_test.shape)"
   ]
  },
  {
   "cell_type": "code",
   "execution_count": 12,
   "id": "b45d4c81",
   "metadata": {},
   "outputs": [],
   "source": [
    "X_train2, X_test2, y_train2, y_test2 = train_test_split(X, y, random_state=78, train_size=0.80)\n"
   ]
  },
  {
   "cell_type": "code",
   "execution_count": 13,
   "id": "e8cee311",
   "metadata": {},
   "outputs": [
    {
     "name": "stdout",
     "output_type": "stream",
     "text": [
      "(8, 5)\n",
      "(2, 5)\n",
      "(8, 1)\n",
      "(2, 1)\n"
     ]
    }
   ],
   "source": [
    "print(X_train2.shape)\n",
    "print(X_test2.shape)\n",
    "print(y_train2.shape)\n",
    "print(y_test2.shape)"
   ]
  },
  {
   "cell_type": "code",
   "execution_count": 14,
   "id": "109b6a2f",
   "metadata": {},
   "outputs": [],
   "source": [
    "# Creating StandardScaler instance\n",
    "scaler = StandardScaler()"
   ]
  },
  {
   "cell_type": "code",
   "execution_count": 15,
   "id": "2fb68943",
   "metadata": {},
   "outputs": [],
   "source": [
    "# Fitting Standard Scaller\n",
    "X_scaler = scaler.fit(X_train)"
   ]
  },
  {
   "cell_type": "code",
   "execution_count": 16,
   "id": "c081d3bf",
   "metadata": {},
   "outputs": [],
   "source": [
    "# Scaling data\n",
    "X_train_scaled = X_scaler.transform(X_train)\n",
    "X_test_scaled = X_scaler.transform(X_test)"
   ]
  },
  {
   "cell_type": "code",
   "execution_count": 46,
   "id": "93607c89",
   "metadata": {},
   "outputs": [],
   "source": [
    "# Creating the decision tree classifier instance\n",
    "model = tree.DecisionTreeClassifier()"
   ]
  },
  {
   "cell_type": "code",
   "execution_count": 47,
   "id": "2d39dce1",
   "metadata": {},
   "outputs": [],
   "source": [
    "# Fitting the model\n",
    "model = model.fit(X_train_scaled, y_train)"
   ]
  },
  {
   "cell_type": "code",
   "execution_count": 48,
   "id": "c29dc6de",
   "metadata": {},
   "outputs": [],
   "source": [
    "# Make predictions using the Tree Model"
   ]
  },
  {
   "cell_type": "code",
   "execution_count": 49,
   "id": "454d7e2a",
   "metadata": {},
   "outputs": [
    {
     "data": {
      "text/plain": [
       "array([89572., 89572., 89572.])"
      ]
     },
     "execution_count": 49,
     "metadata": {},
     "output_type": "execute_result"
    }
   ],
   "source": [
    "# Making predictions using the testing data\n",
    "predictions = model.predict(X_test_scaled)\n",
    "predictions"
   ]
  },
  {
   "cell_type": "code",
   "execution_count": 50,
   "id": "fd5a113c",
   "metadata": {},
   "outputs": [],
   "source": [
    "# Calculating the confusion matrix\n",
    "cm = confusion_matrix(y_test, predictions)\n",
    "cm_df = pd.DataFrame\n",
    "#      cm, index=[], columns=[\"Predicted 0\", \"Predicted 1\"])\n",
    "    \n",
    "# Calculating the accuracy score\n",
    "acc_score = accuracy_score(y_test, predictions)\n",
    "    "
   ]
  },
  {
   "cell_type": "code",
   "execution_count": 51,
   "id": "67c6652b",
   "metadata": {},
   "outputs": [
    {
     "name": "stdout",
     "output_type": "stream",
     "text": [
      "Confusion Matrix\n"
     ]
    },
    {
     "data": {
      "text/plain": [
       "pandas.core.frame.DataFrame"
      ]
     },
     "metadata": {},
     "output_type": "display_data"
    },
    {
     "name": "stdout",
     "output_type": "stream",
     "text": [
      "Accuracy Score : 0.0\n",
      "Classification Report\n",
      "              precision    recall  f1-score   support\n",
      "\n",
      "     89572.0       0.00      0.00      0.00       0.0\n",
      "    103841.0       0.00      0.00      0.00       1.0\n",
      "    120480.0       0.00      0.00      0.00       1.0\n",
      "    127595.0       0.00      0.00      0.00       1.0\n",
      "\n",
      "    accuracy                           0.00       3.0\n",
      "   macro avg       0.00      0.00      0.00       3.0\n",
      "weighted avg       0.00      0.00      0.00       3.0\n",
      "\n"
     ]
    },
    {
     "name": "stderr",
     "output_type": "stream",
     "text": [
      "/Users/damonphillips/opt/anaconda3/lib/python3.9/site-packages/sklearn/metrics/_classification.py:1334: UndefinedMetricWarning: Precision and F-score are ill-defined and being set to 0.0 in labels with no predicted samples. Use `zero_division` parameter to control this behavior.\n",
      "  _warn_prf(average, modifier, msg_start, len(result))\n",
      "/Users/damonphillips/opt/anaconda3/lib/python3.9/site-packages/sklearn/metrics/_classification.py:1334: UndefinedMetricWarning: Recall and F-score are ill-defined and being set to 0.0 in labels with no true samples. Use `zero_division` parameter to control this behavior.\n",
      "  _warn_prf(average, modifier, msg_start, len(result))\n",
      "/Users/damonphillips/opt/anaconda3/lib/python3.9/site-packages/sklearn/metrics/_classification.py:1334: UndefinedMetricWarning: Precision and F-score are ill-defined and being set to 0.0 in labels with no predicted samples. Use `zero_division` parameter to control this behavior.\n",
      "  _warn_prf(average, modifier, msg_start, len(result))\n",
      "/Users/damonphillips/opt/anaconda3/lib/python3.9/site-packages/sklearn/metrics/_classification.py:1334: UndefinedMetricWarning: Recall and F-score are ill-defined and being set to 0.0 in labels with no true samples. Use `zero_division` parameter to control this behavior.\n",
      "  _warn_prf(average, modifier, msg_start, len(result))\n",
      "/Users/damonphillips/opt/anaconda3/lib/python3.9/site-packages/sklearn/metrics/_classification.py:1334: UndefinedMetricWarning: Precision and F-score are ill-defined and being set to 0.0 in labels with no predicted samples. Use `zero_division` parameter to control this behavior.\n",
      "  _warn_prf(average, modifier, msg_start, len(result))\n",
      "/Users/damonphillips/opt/anaconda3/lib/python3.9/site-packages/sklearn/metrics/_classification.py:1334: UndefinedMetricWarning: Recall and F-score are ill-defined and being set to 0.0 in labels with no true samples. Use `zero_division` parameter to control this behavior.\n",
      "  _warn_prf(average, modifier, msg_start, len(result))\n"
     ]
    }
   ],
   "source": [
    "# Displaying results\n",
    "print(\"Confusion Matrix\")\n",
    "display(cm_df)\n",
    "print(f\"Accuracy Score : {acc_score}\")\n",
    "print(\"Classification Report\")\n",
    "print(classification_report(y_test, predictions))\n"
   ]
  },
  {
   "cell_type": "code",
   "execution_count": null,
   "id": "0e781bbd",
   "metadata": {},
   "outputs": [],
   "source": []
  }
 ],
 "metadata": {
  "kernelspec": {
   "display_name": "Python 3 (ipykernel)",
   "language": "python",
   "name": "python3"
  },
  "language_info": {
   "codemirror_mode": {
    "name": "ipython",
    "version": 3
   },
   "file_extension": ".py",
   "mimetype": "text/x-python",
   "name": "python",
   "nbconvert_exporter": "python",
   "pygments_lexer": "ipython3",
   "version": "3.9.12"
  }
 },
 "nbformat": 4,
 "nbformat_minor": 5
}
